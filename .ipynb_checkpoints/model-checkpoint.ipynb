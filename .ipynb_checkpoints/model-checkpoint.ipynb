{
 "cells": [
  {
   "cell_type": "code",
   "execution_count": null,
   "metadata": {},
   "outputs": [],
   "source": [
    "import pandas as pd\n",
    "from sklearn.linear_model import LogisticRegression\n",
    "\n",
    "# create dataframe\n",
    "train = pd.read_csv(\"titanic.csv\")\n",
    "\n",
    "#drop null values\n",
    "train.dropna(inplace=True)\n",
    "\n",
    "#feature and target\n",
    "target = \"Survived\"\n",
    "features = [\"Pclass\",\"Age\",\"SibSp\",\"Fare\"]\n",
    "\n",
    "#X amtrix, y vector\n",
    "X =train[features]\n",
    "y = train[target]\n",
    "\n",
    "\n",
    "#model\n",
    "model = LogisticRegression()\n",
    "model.fit(X,y)\n",
    "model.score(X,y)"
   ]
  }
 ],
 "metadata": {
  "kernelspec": {
   "display_name": "Python 3",
   "language": "python",
   "name": "python3"
  },
  "language_info": {
   "codemirror_mode": {
    "name": "ipython",
    "version": 3
   },
   "file_extension": ".py",
   "mimetype": "text/x-python",
   "name": "python",
   "nbconvert_exporter": "python",
   "pygments_lexer": "ipython3",
   "version": "3.7.2"
  }
 },
 "nbformat": 4,
 "nbformat_minor": 2
}
